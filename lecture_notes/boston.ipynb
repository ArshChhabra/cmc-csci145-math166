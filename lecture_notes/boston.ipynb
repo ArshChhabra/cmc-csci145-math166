{
 "cells": [
  {
   "cell_type": "code",
   "execution_count": 4,
   "metadata": {},
   "outputs": [
    {
     "name": "stdout",
     "output_type": "stream",
     "text": [
      "boston.data= (506, 13)\n",
      "boston.target= (506,)\n"
     ]
    }
   ],
   "source": [
    "from sklearn.datasets import load_boston\n",
    "boston = load_boston()\n",
    "\n",
    "print('boston.data=',boston.data.shape)\n",
    "print('boston.target=',boston.target.shape)"
   ]
  },
  {
   "cell_type": "code",
   "execution_count": 5,
   "metadata": {},
   "outputs": [
    {
     "data": {
      "image/png": "[encoded data removed]",
      "text/plain": [
       "<Figure size 432x288 with 1 Axes>"
      ]
     },
     "metadata": {
      "needs_background": "light"
     },
     "output_type": "display_data"
    }
   ],
   "source": [
    "%matplotlib inline\n",
    "import matplotlib\n",
    "import matplotlib.pyplot as plt\n",
    "\n",
    "plt.hist(boston.data[:,0])\n",
    "plt.show()\n"
   ]
  },
  {
   "cell_type": "code",
   "execution_count": 6,
   "metadata": {},
   "outputs": [
    {
     "name": "stdout",
     "output_type": "stream",
     "text": [
      "training_x= (400, 13)\n",
      "training_y= (400,)\n",
      "test_x= (106, 13)\n",
      "test_y= (106,)\n"
     ]
    }
   ],
   "source": [
    "n=400\n",
    "\n",
    "training_x = boston.data[:n,:]\n",
    "training_y = boston.target[:n]\n",
    "\n",
    "test_x = boston.data[n:,:]\n",
    "test_y = boston.target[n:]\n",
    "\n",
    "print('training_x=',training_x.shape)\n",
    "print('training_y=',training_y.shape)\n",
    "\n",
    "print('test_x=',test_x.shape)\n",
    "print('test_y=',test_y.shape)"
   ]
  },
  {
   "cell_type": "code",
   "execution_count": 7,
   "metadata": {},
   "outputs": [
    {
     "data": {
      "text/plain": [
       "37.893778599601866"
      ]
     },
     "execution_count": 7,
     "metadata": {},
     "output_type": "execute_result"
    }
   ],
   "source": [
    "from sklearn import linear_model\n",
    "model = linear_model.LinearRegression()\n",
    "model.fit(training_x,training_y)\n",
    "test_x_predict=model.predict(test_x)\n",
    "\n",
    "from sklearn import metrics\n",
    "metrics.mean_squared_error(test_x_predict,test_y)"
   ]
  },
  {
   "cell_type": "code",
   "execution_count": null,
   "metadata": {},
   "outputs": [],
   "source": []
  }
 ],
 "metadata": {
  "kernelspec": {
   "display_name": "Python 3",
   "language": "python",
   "name": "python3"
  },
  "language_info": {
   "codemirror_mode": {
    "name": "ipython",
    "version": 3
   },
   "file_extension": ".py",
   "mimetype": "text/x-python",
   "name": "python",
   "nbconvert_exporter": "python",
   "pygments_lexer": "ipython3",
   "version": "3.5.3"
  }
 },
 "nbformat": 4,
 "nbformat_minor": 2
}
