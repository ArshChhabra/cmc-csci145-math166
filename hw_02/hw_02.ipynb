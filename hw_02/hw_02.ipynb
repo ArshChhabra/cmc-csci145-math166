{
 "cells": [
  {
   "cell_type": "markdown",
   "metadata": {},
   "source": [
    "# HW 2: Visualizing statistical error with synthetic data\n",
    "\n",
    "One way to understand how a model behaves is to study how that model performs on synthetic data.  Synthetic data has two advantages over real world data:\n",
    "\n",
    "1. We can specify the bayes error exactly.  (This quantity is never known for real world data.)\n",
    "\n",
    "2. We can precisely control the extent to which are model assumptions are satisfied, and determine how robust our model is to false assumptions.\n",
    "\n",
    "The disadvantage of using synthetic data is that a model is not guaranteed to work well on real world data if we've only evaluated it on synthetic data.  Therefore, in practice, we typically want to evaluate a model on both synthetic and real world data.\n",
    "\n",
    "**Goal of this homework:**  You will study how three different models (logistic regression, naive bayes, and Fisher's linear discriminant) perform under different conditions.  In particular, you will see how several properties of the input data affect these models' statistical error differently.  These properties include: the number of data points, feature dimensions, number of classes, distribution of the data, and the noisiness of the data.\n",
    "\n",
    "**Grading:** There are 22 problems/subproblems in this homework.  Each is worth 5 points, for a total of 110 points."
   ]
  },
  {
   "cell_type": "markdown",
   "metadata": {},
   "source": [
    "## The Setup\n",
    "\n",
    "The following code loads the numpy and scikit-learn libraries into python and defines the  `generate_data` function.  This function will be used in each of the subsequent problems to plot how changes in the parameters to the synthetic datasets effect the accuracy of our models.  You should be able to understand the semantics of the parameters passed into the function, but you do not need to understand the details of how the function is implemented."
   ]
  },
  {
   "cell_type": "code",
   "execution_count": 1,
   "metadata": {},
   "outputs": [],
   "source": [
    "################################################################################\n",
    "# DO NOT MODIFY THIS CODE BLOCK\n",
    "################################################################################\n",
    "\n",
    "# load libraries\n",
    "from sklearn.linear_model import LogisticRegression\n",
    "from sklearn.linear_model import LogisticRegressionCV\n",
    "from sklearn.naive_bayes import GaussianNB\n",
    "from sklearn.discriminant_analysis import LinearDiscriminantAnalysis\n",
    "%matplotlib inline\n",
    "import matplotlib.pyplot as plt\n",
    "import numpy as np\n",
    "np.random.seed(0)\n",
    "\n",
    "# generate random distributions for each class/mode\n",
    "# i.e. randomly generate the parameters for the distributions\n",
    "# we will generate random samples from the random distributions in the generate_data function\n",
    "d_max=1024\n",
    "c_max=1024\n",
    "mu_max=np.random.randn(d_max,c_max)\n",
    "modes_max=1024\n",
    "mode_offsets_max=np.random.randn(d_max,c_max)\n",
    "\n",
    "def generate_data(\n",
    "    n,\n",
    "    d,\n",
    "    c,\n",
    "    sigma,\n",
    "    distribution,\n",
    "    modes,\n",
    "):\n",
    "    '''\n",
    "    n: the number of data points per class per mode\n",
    "    d: the number of dimensions/features for each data point\n",
    "    c: the number of classes\n",
    "    sigma: controls the variance of the data points\n",
    "    distribution: the marginal distribution of the data\n",
    "    modes: the number of mixtures in the distribution\n",
    "    '''\n",
    "\n",
    "    assert(d<=d_max)\n",
    "    assert(c<=c_max)\n",
    "    assert(modes<=modes_max)\n",
    "    \n",
    "    # these variables are used to calculate the mean for each mode in each class\n",
    "    # we only calculate these values once, so they are not placed in the subfunction/for loops below\n",
    "    mu=mu_max[:d,:c]\n",
    "    mode_offsets=mode_offsets_max[:d,:]*2    \n",
    "    \n",
    "    def generate_dataset(n):\n",
    "        '''\n",
    "        generates n (x,y) pairs;\n",
    "        this is broken out into its own subfunction so that we can easily generate \n",
    "        training/test splits with the same parameters\n",
    "        '''\n",
    "        Xs=[]\n",
    "        Ys=[]\n",
    "        for i in range(c):\n",
    "            for mode in range(modes):\n",
    "                # the mean for each mode is calculated as the mean of the class \n",
    "                # plus a \"randomly chosen\" mode offset;\n",
    "                mode_index=(104729*(mode+i))%modes_max\n",
    "                mean=mu[:,i]+mode_offsets[:,mode_index]\n",
    "                \n",
    "                # then we generate samples from the selected distribution\n",
    "                if distribution=='normal':\n",
    "                    samples=np.random.randn(n,d)*sigma\n",
    "                elif distribution=='exponential':\n",
    "                    samples=np.random.exponential(size=[n,d])*sigma            \n",
    "                elif distribution=='uniform':\n",
    "                    samples=np.random.uniform(size=[n,d])*sigma\n",
    "                    \n",
    "                # the final values of are Xs are just the samples offset by the calculated means\n",
    "                Xs.append(mean+samples)\n",
    "                Ys.append(np.ones(n)*i)\n",
    "        X=np.concatenate(Xs)\n",
    "        Y=np.concatenate(Ys)\n",
    "        \n",
    "        return (X,Y)\n",
    "    \n",
    "    # return the training data and test data\n",
    "    return (generate_dataset(n),generate_dataset(10000))"
   ]
  },
  {
   "cell_type": "markdown",
   "metadata": {},
   "source": [
    "## Problem 0: Visualizing the data\n",
    "\n",
    "The `plot_data` function below helps visualize how the parameters to `generate_data` affect the dataset."
   ]
  },
  {
   "cell_type": "code",
   "execution_count": 2,
   "metadata": {},
   "outputs": [],
   "source": [
    "def plot_data(n,d,c,sigma,distribution,modes):\n",
    "    '''\n",
    "    plots the first two dimensions of a dataset\n",
    "    '''\n",
    "    # generate a small dataset\n",
    "    ((X,Y),_)=generate_data(n,d,c,sigma,distribution,modes)\n",
    "\n",
    "    # plot the first two dimensions of the data\n",
    "    fig, ax = plt.subplots()\n",
    "    for i in range(c):\n",
    "        ax.scatter(X[i*n*modes:(i+1)*n*modes,0],X[i*n*modes:(i+1)*n*modes,1])\n",
    "    plt.title('distribution='+distribution+', modes='+str(modes)+', sigma='+str(sigma))\n",
    "    plt.show()"
   ]
  },
  {
   "cell_type": "markdown",
   "metadata": {},
   "source": [
    "**Problem 0a:** Plot a dataset that has a large bayes error.\n",
    "\n",
    "HINT: Set `n=100`, `d=2`, and `c=2`.  Adjust `sigma`, `distribution`, and `modes`."
   ]
  },
  {
   "cell_type": "code",
   "execution_count": 3,
   "metadata": {},
   "outputs": [],
   "source": [
    "# insert code here"
   ]
  },
  {
   "cell_type": "markdown",
   "metadata": {},
   "source": [
    "**Problem 0b:** Plot a dataset that has a small bayes error.\n",
    "\n",
    "HINT: Set `n=100`, `d=2`, and `c=2`.  Adjust `sigma`, `distribution`, and `modes`."
   ]
  },
  {
   "cell_type": "code",
   "execution_count": 4,
   "metadata": {},
   "outputs": [],
   "source": [
    "# insert code here"
   ]
  },
  {
   "cell_type": "markdown",
   "metadata": {},
   "source": [
    "**Problem 0c:** Plot a dataset that has a small bayes error, but a large modeling error for any linear model.\n",
    "\n",
    "HINT: Set `n=100`, `d=2`, and `c=2`.  Adjust `sigma`, `distribution`, and `modes`."
   ]
  },
  {
   "cell_type": "code",
   "execution_count": 5,
   "metadata": {},
   "outputs": [],
   "source": [
    "# insert code here"
   ]
  },
  {
   "cell_type": "markdown",
   "metadata": {},
   "source": [
    "**Problem 0d:**  Is it possible to get a bayes error of 0?  If so, plot an example; if not, describe why (1-2 sentences)."
   ]
  },
  {
   "cell_type": "code",
   "execution_count": 6,
   "metadata": {},
   "outputs": [],
   "source": [
    "# insert code/explanation here"
   ]
  },
  {
   "cell_type": "markdown",
   "metadata": {},
   "source": [
    "## Problem 1: plotting `n` vs. classification accuracy\n",
    "\n",
    "Plot graphs showing how classification accuracy scales with the number of data points $n$.  You should have three graphs, one for each choice of distribution; and each graph should show the accuracy of linear discriminant analysis, naive bayes, and logistic regression.\n",
    "\n",
    "To help get you started, I've provided sample code for the naive bayes model below.  Follow the template I used for naive bayes to add experiments using the other two models."
   ]
  },
  {
   "cell_type": "code",
   "execution_count": 7,
   "metadata": {},
   "outputs": [
    {
     "data": {
      "image/png": "[encoded data removed]",
      "text/plain": [
       "<Figure size 432x288 with 1 Axes>"
      ]
     },
     "metadata": {
      "needs_background": "light"
     },
     "output_type": "display_data"
    },
    {
     "data": {
      "image/png": "[encoded data removed]",
      "text/plain": [
       "<Figure size 432x288 with 1 Axes>"
      ]
     },
     "metadata": {
      "needs_background": "light"
     },
     "output_type": "display_data"
    },
    {
     "data": {
      "image/png": "[encoded data removed]",
      "text/plain": [
       "<Figure size 432x288 with 1 Axes>"
      ]
     },
     "metadata": {
      "needs_background": "light"
     },
     "output_type": "display_data"
    }
   ],
   "source": [
    "ns=[ 2**b for b in range(3,17) ]\n",
    "d=10\n",
    "c=2\n",
    "sigma=10\n",
    "modes=1\n",
    "distributions=['normal','exponential','uniform']\n",
    "\n",
    "for distribution in distributions:\n",
    "\n",
    "    # this dictionary stores summaries of the results of each experiment\n",
    "    scores={\n",
    "        'nb_ave':[],\n",
    "        'nb_std':[],\n",
    "    }\n",
    "    \n",
    "    for n in ns:    \n",
    "        # repeat each experiment several times,\n",
    "        # storing each result in the scores_itr dictionary\n",
    "        scores_itr={\n",
    "            'nb':[],\n",
    "        }\n",
    "        for trial in range(5):\n",
    "            # generate the data\n",
    "            ((X_train,Y_train),(X_test,Y_test))=generate_data(n,d,c,sigma,distribution,modes)\n",
    "\n",
    "            # train a naive bayes model\n",
    "            nb = GaussianNB()\n",
    "            nb.fit(X_train,Y_train)\n",
    "            scores_itr['nb'].append(nb.score(X_test,Y_test))\n",
    "\n",
    "        # record the mean and standard deviations of each experiment\n",
    "        scores['nb_ave'].append(np.mean(scores_itr['nb']))\n",
    "        scores['nb_std'].append(np.std(scores_itr['nb']))\n",
    "\n",
    "    # plot the results of each experiment\n",
    "    plt.errorbar(ns, scores['nb_ave'], yerr=scores['nb_std'], label='naive bayes')\n",
    "    plt.xscale('log',basex=2)\n",
    "    plt.xlabel('n')\n",
    "    plt.ylabel('classification accuracy')\n",
    "    plt.legend()\n",
    "    plt.title('distribution='+distribution)\n",
    "    plt.show()"
   ]
  },
  {
   "cell_type": "markdown",
   "metadata": {},
   "source": [
    "**Problem 1b:** The bias and variance both decrease as `n` increases, and are essentially the same for all three input distributions and models.  Describe how the bayes and modeling errors change as `n`, the distribution, and the model change.  (1-2 sentences each)\n",
    "\n",
    "_Place you answer here._"
   ]
  },
  {
   "cell_type": "markdown",
   "metadata": {},
   "source": [
    "## Problem 2: plotting `n` vs. classification accuracy (multimodal)\n",
    "\n",
    "Repeat the experiment in Problem 1, but set `sigma=1` and `modes=10`.  This change makes the input dataset a bit more interesting, and better simulates real world data."
   ]
  },
  {
   "cell_type": "code",
   "execution_count": 8,
   "metadata": {},
   "outputs": [],
   "source": [
    "# insert code here"
   ]
  },
  {
   "cell_type": "markdown",
   "metadata": {},
   "source": [
    "**Problem 2b:** Describe the differences you see between using multimodal and unimodal data distributions.  (1-2 sentences.)\n",
    "\n",
    "_Place your answer here._\n",
    "\n",
    "**Problem 2c:** How does adding more modes affect the bayes error and modeling error of each graph?  (1-2 sentences.)\n",
    "\n",
    "_Place your answer here._\n"
   ]
  },
  {
   "cell_type": "markdown",
   "metadata": {},
   "source": [
    "## Problem 3: plotting `modes` vs. classification accuracy\n",
    "\n",
    "Repeat the experiment in Problem 2, but fix `n=256` and let `modes` vary from 1 to 20 (linearly with step 1). "
   ]
  },
  {
   "cell_type": "code",
   "execution_count": 9,
   "metadata": {},
   "outputs": [],
   "source": [
    "# insert code here"
   ]
  },
  {
   "cell_type": "markdown",
   "metadata": {},
   "source": [
    "**Problem 3b:** Use the graphs above to describe how adding more modes affects the bayes and modeling error (1-2 sentences).  For these models, increasing the number of modes has a negligible effect on the bias and variance of the models.\n",
    "\n",
    "_Place your answer here._"
   ]
  },
  {
   "cell_type": "markdown",
   "metadata": {},
   "source": [
    "## Problem 4: Plotting `d` vs classification accuracy\n",
    "\n",
    "Repeat the experiment in Problem 2, but fix `n=256` and vary `d` from `2` to `64` (logarithmically with base 2).  Your plots should have `d` on the x-axis."
   ]
  },
  {
   "cell_type": "code",
   "execution_count": 10,
   "metadata": {},
   "outputs": [],
   "source": [
    "# insert code here"
   ]
  },
  {
   "cell_type": "markdown",
   "metadata": {},
   "source": [
    "**Problem 4b:** Use the graphs above to describe how adding more dimensions affects the bayes error, bias, and variance of each model (1-2 sentences).  For these models, adding more dimensions has essentially no effect on the modeling error.\n",
    "\n",
    "_Place your answer here._"
   ]
  },
  {
   "cell_type": "markdown",
   "metadata": {},
   "source": [
    "## Problem 5: Plotting `c` vs classification accuracy\n",
    "\n",
    "Repeat the experiment in Problem 2, but fix `n=256` and vary `c` from 2 to 10 (linearly with step 2).  Your plots should have `c` on the x-axis."
   ]
  },
  {
   "cell_type": "code",
   "execution_count": 11,
   "metadata": {},
   "outputs": [],
   "source": [
    "# insert code here"
   ]
  },
  {
   "cell_type": "markdown",
   "metadata": {},
   "source": [
    "**Problem 5b:** Use the graphs above to describe how adding more classes affects the bayes error and modeling error (1-2 sentences).  For these models, adding more dimensions has a negligible effect on the bias and variance.\n",
    "\n",
    "_Place your answer here._\n"
   ]
  },
  {
   "cell_type": "markdown",
   "metadata": {},
   "source": [
    "## Problem 6: Plotting `sigma` vs classification accuracy\n",
    "\n",
    "Repeat problem 2, but fix `n=256` and vary `sigma` from `0.2` to `4` (linearly with step `0.2`).  Your plots should have `sigma` on the x-axis."
   ]
  },
  {
   "cell_type": "code",
   "execution_count": 12,
   "metadata": {},
   "outputs": [],
   "source": [
    "# insert code here"
   ]
  },
  {
   "cell_type": "markdown",
   "metadata": {},
   "source": [
    "**Problem 6b:** Adding more noise (i.e. increasing `sigma`) increases the bayes error of the problem.  Why? (1-2 sentences)\n",
    "\n",
    "_Place your answer here._\n",
    "\n",
    "**Problem 6c:**\n",
    "Use the plots above to describe how the modeling error changes as a function of the bayes error (i.e. how modeling error changes as a function os `sigma`). (1-2 sentences)\n",
    "\n",
    "_Place your answer here._\n"
   ]
  },
  {
   "cell_type": "markdown",
   "metadata": {},
   "source": [
    "## Problem 7: Plotting regularization strength vs classification accuracy\n",
    "\n",
    "This problem is closely related to the \"bias variance tradeoff curve\" that we generated for ridge regression on the boston dataset.  In this problem, however, you will use the synthetic dataset as in problem 2 (but with a fixed `n=256`.  \n",
    "\n",
    "None of the dataset parameters will vary in this problem.  Instead, you will train logistic regression models with different regularization strengths, and plot regularization strength vs. accuracy.  Your plot should have two lines on it (one for l2 regularization, and the other for l1 regularization).\n",
    "\n",
    "You can find the documentation for scikit learn's logistic regression function at https://scikit-learn.org/stable/modules/generated/sklearn.linear_model.LogisticRegression.html\n",
    "\n",
    "The parameters of interest for this problem are `penalty` and `C`."
   ]
  },
  {
   "cell_type": "code",
   "execution_count": 13,
   "metadata": {},
   "outputs": [],
   "source": [
    "# insert code here"
   ]
  },
  {
   "cell_type": "markdown",
   "metadata": {},
   "source": [
    "**Problem 7b:** As `C` varies, how does the bias and variance vary?  Pay careful attention to scikit learn's definition of `C`, which is slightly different than how they define the regularization strength for ridge regression and how we defined it in class.  (1-2 sentences)\n",
    "\n",
    "_Place your answer here._\n",
    "\n",
    "**Problem 7c:** As `C` varies, how does the bayes error and model error vary?  (1-2 sentences)\n",
    "\n",
    "_Place your answer here._\n",
    "\n",
    "**Problem 7d:** When does it make sense to use l1 regularization vs l2 regularization? (1-2 sentences)\n",
    "\n",
    "HINT: The plots above don't convey this information, you'll have to look it up.\n",
    "\n",
    "_Place your answer here._"
   ]
  }
 ],
 "metadata": {
  "kernelspec": {
   "display_name": "Python 3",
   "language": "python",
   "name": "python3"
  },
  "language_info": {
   "codemirror_mode": {
    "name": "ipython",
    "version": 3
   },
   "file_extension": ".py",
   "mimetype": "text/x-python",
   "name": "python",
   "nbconvert_exporter": "python",
   "pygments_lexer": "ipython3",
   "version": "3.5.3"
  }
 },
 "nbformat": 4,
 "nbformat_minor": 2
}
