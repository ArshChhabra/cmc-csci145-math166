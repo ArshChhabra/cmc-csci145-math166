{
 "cells": [
  {
   "cell_type": "markdown",
   "metadata": {},
   "source": [
    "# What we'll study in data mining\n",
    "\n",
    "A famous problem is to write a program that can \"read\" the number that is contained in an image.\n",
    "\n",
    "![MNIST digits](https://www.researchgate.net/profile/Pablo-Zegers/publication/306088728/figure/fig2/AS:394612758859777@1471094421263/A-collage-of-8-8-randomly-picked-images-of-handwritten-digits-from-the-MNIST-training.png)\n",
    "\n",
    "It is hard to manually write a program to do this.\n",
    "In this class, we will study algorithms that learn how to perform this task automatically from data."
   ]
  },
  {
   "cell_type": "markdown",
   "metadata": {},
   "source": [
    "## Load the MNIST data"
   ]
  },
  {
   "cell_type": "code",
   "execution_count": 1,
   "metadata": {},
   "outputs": [
    {
     "name": "stdout",
     "output_type": "stream",
     "text": [
      "X_train.shape= (50000, 784)\n",
      "y_train.shape= (50000,)\n",
      "X_test.shape= (10000, 784)\n",
      "y_test.shape= (10000,)\n"
     ]
    }
   ],
   "source": [
    "# load MNIST dataset\n",
    "from sklearn.datasets import fetch_openml\n",
    "X, y = fetch_openml(\"mnist_784\", version=1, return_X_y=True)\n",
    "\n",
    "# create train/test split\n",
    "from sklearn.model_selection import train_test_split\n",
    "X_train, X_test, y_train, y_test = train_test_split(\n",
    "    X, y, train_size=50000, test_size=10000, random_state=0\n",
    ")\n",
    "\n",
    "# print debug info\n",
    "print('X_train.shape=', X_train.shape)\n",
    "print('y_train.shape=', y_train.shape)\n",
    "print('X_test.shape=', X_test.shape)\n",
    "print('y_test.shape=', y_test.shape)"
   ]
  },
  {
   "cell_type": "code",
   "execution_count": 3,
   "metadata": {},
   "outputs": [
    {
     "data": {
      "image/png": "[encoded data removed]",
      "text/plain": [
       "<Figure size 432x288 with 1 Axes>"
      ]
     },
     "metadata": {
      "needs_background": "light"
     },
     "output_type": "display_data"
    }
   ],
   "source": [
    "# visualize the data\n",
    "import matplotlib.pyplot as plt\n",
    "%matplotlib inline\n",
    "\n",
    "image = X_train[0].reshape([28, X_train.shape[1] // 28])\n",
    "fig = plt.figure()\n",
    "plt.axis('off')\n",
    "plt.imshow(image, cmap='gray')\n",
    "plt.show()"
   ]
  },
  {
   "cell_type": "markdown",
   "metadata": {},
   "source": [
    "## Training a model\n",
    "\n",
    "Now that we have some data, we can train a model on the data.\n",
    "The popular Python library scikit-learn has [lots of models for us to choose from](https://scikit-learn.org/stable/auto_examples/classification/plot_classifier_comparison.html)."
   ]
  },
  {
   "cell_type": "code",
   "execution_count": 13,
   "metadata": {},
   "outputs": [
    {
     "name": "stdout",
     "output_type": "stream",
     "text": [
      "training time: 75.93 sec\n",
      "score: 0.9616\n"
     ]
    }
   ],
   "source": [
    "import time\n",
    "\n",
    "train_start = time.time()\n",
    "\n",
    "# train model\n",
    "\n",
    "from sklearn.tree import DecisionTreeClassifier\n",
    "clf = DecisionTreeClassifier()\n",
    "clf.fit(X_train, y_train)\n",
    "\n",
    "#from sklearn.linear_model import LogisticRegression\n",
    "#clf = LogisticRegression()\n",
    "#clf.fit(X_train, y_train)\n",
    "\n",
    "#from sklearn.neighbors import KNeighborsClassifier\n",
    "#clf = KNeighborsClassifier()\n",
    "#clf.fit(X_train, y_train)\n",
    "\n",
    "#from sklearn.neural_network import MLPClassifier\n",
    "#clf = MLPClassifier(hidden_layer_sizes=[10])\n",
    "#clf.fit(X_train, y_train)\n",
    "\n",
    "# print training time\n",
    "train_stop = time.time()\n",
    "print(f'training time: {train_stop-train_start:0.2f} sec')\n",
    "\n",
    "# evaluate model\n",
    "score = clf.score(X_test, y_test)\n",
    "print(\"score: %.4f\" % score)"
   ]
  },
  {
   "cell_type": "markdown",
   "metadata": {},
   "source": [
    "Takeaways:\n",
    "    \n",
    "    1. The programming is EASY\n",
    "    1. Selecting which algorithm and which \"hyperparameters\" is HARD\n",
    "\n",
    "You need to understand a LOT of math to understsand how select the best algorithm/hyperparameters for a particular problem"
   ]
  },
  {
   "cell_type": "code",
   "execution_count": null,
   "metadata": {},
   "outputs": [],
   "source": []
  }
 ],
 "metadata": {
  "kernelspec": {
   "display_name": "Python 3",
   "language": "python",
   "name": "python3"
  },
  "language_info": {
   "codemirror_mode": {
    "name": "ipython",
    "version": 3
   },
   "file_extension": ".py",
   "mimetype": "text/x-python",
   "name": "python",
   "nbconvert_exporter": "python",
   "pygments_lexer": "ipython3",
   "version": "3.6.9"
  }
 },
 "nbformat": 4,
 "nbformat_minor": 2
}
